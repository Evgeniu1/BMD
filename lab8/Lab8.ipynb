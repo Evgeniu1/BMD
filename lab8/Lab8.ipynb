{
 "cells": [
  {
   "cell_type": "markdown",
   "metadata": {},
   "source": [
    "Назва дисципліни: Обробка та аналіз біомедичних даних"
   ]
  },
  {
   "cell_type": "markdown",
   "metadata": {},
   "source": [
    "Група: БС-83"
   ]
  },
  {
   "cell_type": "markdown",
   "metadata": {},
   "source": [
    "Студент: Каліновська Б.В."
   ]
  },
  {
   "cell_type": "markdown",
   "metadata": {},
   "source": [
    "Лабораторна робота №8"
   ]
  },
  {
   "cell_type": "markdown",
   "metadata": {},
   "source": [
    "Тема: Дисперсійний аналіз"
   ]
  },
  {
   "cell_type": "markdown",
   "metadata": {},
   "source": [
    "Завдання:"
   ]
  },
  {
   "cell_type": "markdown",
   "metadata": {},
   "source": [
    "1. Розрахувати та вивести у вигляді таблиці статистичні характиристики даних (середні та стандартні відхилення для кожної з груп)"
   ]
  },
  {
   "cell_type": "code",
   "execution_count": 3,
   "metadata": {},
   "outputs": [],
   "source": [
    "#Імпортування бібліотек\n",
    "import numpy as np\n",
    "import pandas as pd\n",
    "import scipy.stats as ss\n",
    "import seaborn as sns\n",
    "import math\n",
    "import matplotlib.pyplot as plt"
   ]
  },
  {
   "cell_type": "markdown",
   "metadata": {},
   "source": [
    "Дослід закладався в 6-х повторностях з градаціями регульованого фактору (розпушування) – відсутність, два, чотири, шість. Всього закладено 24 пробних площ, на яких у дослідних рослин заміряні восени річні прирости за висотою. Результати замірів згруповані в таблиці нижче. Однакова кількість повторностей по всіх варіантах досліду і участь лише одного регульованого фактора підтверджує класифікацію комплексу як однофакторіального і рівномірного"
   ]
  },
  {
   "cell_type": "code",
   "execution_count": 4,
   "metadata": {},
   "outputs": [
    {
     "data": {
      "text/html": [
       "<div>\n",
       "<style scoped>\n",
       "    .dataframe tbody tr th:only-of-type {\n",
       "        vertical-align: middle;\n",
       "    }\n",
       "\n",
       "    .dataframe tbody tr th {\n",
       "        vertical-align: top;\n",
       "    }\n",
       "\n",
       "    .dataframe thead th {\n",
       "        text-align: right;\n",
       "    }\n",
       "</style>\n",
       "<table border=\"1\" class=\"dataframe\">\n",
       "  <thead>\n",
       "    <tr style=\"text-align: right;\">\n",
       "      <th>n</th>\n",
       "      <th>Нуль</th>\n",
       "      <th>Два</th>\n",
       "      <th>Чотири</th>\n",
       "      <th>Шість</th>\n",
       "    </tr>\n",
       "  </thead>\n",
       "  <tbody>\n",
       "    <tr>\n",
       "      <td>1</td>\n",
       "      <td>6.00</td>\n",
       "      <td>8.00</td>\n",
       "      <td>12.00</td>\n",
       "      <td>12.0</td>\n",
       "    </tr>\n",
       "    <tr>\n",
       "      <td>2</td>\n",
       "      <td>4.00</td>\n",
       "      <td>8.00</td>\n",
       "      <td>14.00</td>\n",
       "      <td>12.0</td>\n",
       "    </tr>\n",
       "    <tr>\n",
       "      <td>3</td>\n",
       "      <td>8.00</td>\n",
       "      <td>12.00</td>\n",
       "      <td>16.00</td>\n",
       "      <td>12.0</td>\n",
       "    </tr>\n",
       "    <tr>\n",
       "      <td>4</td>\n",
       "      <td>6.00</td>\n",
       "      <td>12.00</td>\n",
       "      <td>18.00</td>\n",
       "      <td>16.0</td>\n",
       "    </tr>\n",
       "    <tr>\n",
       "      <td>5</td>\n",
       "      <td>12.00</td>\n",
       "      <td>16.00</td>\n",
       "      <td>20.00</td>\n",
       "      <td>16.0</td>\n",
       "    </tr>\n",
       "    <tr>\n",
       "      <td>6</td>\n",
       "      <td>10.00</td>\n",
       "      <td>16.00</td>\n",
       "      <td>22.00</td>\n",
       "      <td>16.0</td>\n",
       "    </tr>\n",
       "    <tr>\n",
       "      <td>Середні значення:</td>\n",
       "      <td>7.67</td>\n",
       "      <td>12.00</td>\n",
       "      <td>17.00</td>\n",
       "      <td>14.0</td>\n",
       "    </tr>\n",
       "    <tr>\n",
       "      <td>Стандартне відхилення:</td>\n",
       "      <td>2.69</td>\n",
       "      <td>3.27</td>\n",
       "      <td>3.42</td>\n",
       "      <td>2.0</td>\n",
       "    </tr>\n",
       "  </tbody>\n",
       "</table>\n",
       "</div>"
      ],
      "text/plain": [
       "n                        Нуль    Два  Чотири  Шість\n",
       "1                        6.00   8.00   12.00   12.0\n",
       "2                        4.00   8.00   14.00   12.0\n",
       "3                        8.00  12.00   16.00   12.0\n",
       "4                        6.00  12.00   18.00   16.0\n",
       "5                       12.00  16.00   20.00   16.0\n",
       "6                       10.00  16.00   22.00   16.0\n",
       "Середні значення:        7.67  12.00   17.00   14.0\n",
       "Стандартне відхилення:   2.69   3.27    3.42    2.0"
      ]
     },
     "execution_count": 4,
     "metadata": {},
     "output_type": "execute_result"
    }
   ],
   "source": [
    "#Таблиця 1\n",
    "data_0 = [6,4,8,6,12,10]\n",
    "data_2 = [8,8,12,12,16,16]\n",
    "data_4 = [12,14,16,18,20,22]\n",
    "data_6 = [12,12,12,16,16,16]\n",
    "\n",
    "#Середнє значення(заокруглюємо до 2 знаків після коми)\n",
    "av_0 = float('{:.2f}'.format(sum(data_0)/len(data_0))) \n",
    "av_2 = float('{:.2f}'.format(sum(data_2)/len(data_0))) \n",
    "av_4 = float('{:.2f}'.format(sum(data_4)/len(data_0))) \n",
    "av_6 = float('{:.2f}'.format(sum(data_6)/len(data_0)))\n",
    "#Сандартні відхилення для кожної з груп (заокруглюємо до 2 знаків після коми)\n",
    "#std() - обчислює середньоквадратичне (стандартне) відхилення елементів масива\n",
    "std_0 = float('{:.2f}'.format(np.std(data_0))) \n",
    "std_2 = float('{:.2f}'.format(np.std(data_2))) \n",
    "std_4 = float('{:.2f}'.format(np.std(data_4))) \n",
    "std_6 = float('{:.2f}'.format(np.std(data_6)))\n",
    "\n",
    "#Таблиця з даними про Середні значення і про Стандартні відхилення\n",
    "table_1 = pd.DataFrame({'Нуль':data_0,\n",
    "                        'Два':data_2,\n",
    "                        'Чотири':data_4,\n",
    "                        'Шість':data_6},\n",
    "                        index=np.arange(1, len(data_0) + 1))\n",
    "table_1.columns.name = 'n'\n",
    "\n",
    "#Таблиця для побудови boxplot діаграми і розрахунків\n",
    "table_only_data = pd.DataFrame({'Нуль':data_0,\n",
    "                        'Два':data_2,\n",
    "                        'Чотири':data_4,\n",
    "                        'Шість':data_6})\n",
    "\n",
    "table_1.loc[\"Середні значення:\"] = [av_0, av_2, av_4, av_6]\n",
    "table_1.loc[\"Стандартне відхилення:\"] = [std_0, std_2, std_4, std_6]\n",
    "\n",
    "table_1"
   ]
  },
  {
   "cell_type": "markdown",
   "metadata": {},
   "source": [
    "2. Побудувати графік розкиду в групах"
   ]
  },
  {
   "cell_type": "code",
   "execution_count": 5,
   "metadata": {},
   "outputs": [
    {
     "data": {
      "text/plain": [
       "[<matplotlib.lines.Line2D at 0x1f165afd908>]"
      ]
     },
     "execution_count": 5,
     "metadata": {},
     "output_type": "execute_result"
    },
    {
     "data": {
      "image/png": "[encoded data removed]",
      "text/plain": [
       "<Figure size 432x288 with 4 Axes>"
      ]
     },
     "metadata": {
      "needs_background": "light"
     },
     "output_type": "display_data"
    }
   ],
   "source": [
    "#1 графік\n",
    "plt.subplot(2, 2, 1) \n",
    "plt.plot(data_0, 'r')\n",
    "#2 графік\n",
    "plt.subplot(2, 2, 2) \n",
    "plt.plot(data_2, 'g')\n",
    "#3 графік\n",
    "plt.subplot(2, 2, 3) \n",
    "plt.plot(data_4, 'b')\n",
    "#4 графік\n",
    "plt.subplot(2, 2, 4) \n",
    "plt.plot(data_6, 'y')"
   ]
  },
  {
   "cell_type": "code",
   "execution_count": 6,
   "metadata": {},
   "outputs": [
    {
     "data": {
      "text/plain": [
       "[Text(0, 0.5, 'Наявнсть розпушування'), Text(0.5, 0, 'Річний приріст')]"
      ]
     },
     "execution_count": 6,
     "metadata": {},
     "output_type": "execute_result"
    },
    {
     "data": {
      "image/png": "[encoded data removed]",
      "text/plain": [
       "<Figure size 432x288 with 1 Axes>"
      ]
     },
     "metadata": {
      "needs_background": "light"
     },
     "output_type": "display_data"
    }
   ],
   "source": [
    "#Для кращої візуалізації розкиду в групах\n",
    "\n",
    "#Діаграма розмаху, коро́бковий графік, графік «ящик з вусами» — засіб візуалізації в описовій статистиці груп числових даних \n",
    "#через їх квантилі. Коробковий графік може також мати лінії, які виходять вертикально з коробки (вони називаються вусами), \n",
    "#вони вказують величину мінливості поза верхньою та нижньою межами квантиля. Викиди може бути нанесено у вигляді точок.\n",
    "\n",
    "sns.boxplot( data = table_only_data, orient='h', palette='coolwarm').set(xlabel='Річний приріст', \n",
    "                                                        ylabel='Наявнсть розпушування')"
   ]
  },
  {
   "cell_type": "markdown",
   "metadata": {},
   "source": [
    "3. Побудувати функцію, що реалізовує однофакторний дисперсійний аналіз"
   ]
  },
  {
   "cell_type": "code",
   "execution_count": 7,
   "metadata": {},
   "outputs": [],
   "source": [
    "def Duspersion(table):\n",
    "    #Розраховуємо загальні дані\n",
    "    c = (len(table.iloc[0,:])) #кількість умов (градацій)\n",
    "    n = (len(table.iloc[:,0])) #кількість досліджень в групах\n",
    "    N = c*n #загальна кількість досліджень\n",
    "    Tc_2 = sum_x = sum_x_2 = x_2_sum = const = 0\n",
    "    result_F = \"\"\n",
    "    \n",
    "    #Сума квадратів сумарних значень по кожній групі    \n",
    "    for i in range (c):\n",
    "        Tc_2 += (sum(table.iloc[:,i]))**2 \n",
    "    \n",
    "    #Квадрат індивідуальної суми загальних значень\n",
    "    for i in range(c):\n",
    "        for j in range(n):\n",
    "            sum_x += (table.iloc[j,i])\n",
    "    sum_x_2 = sum_x **2\n",
    "    \n",
    "    #Сума квадратів індивідуальних значень\n",
    "    for i in range(c):\n",
    "        for j in range(n):\n",
    "            x_2_sum += (table.iloc[j,i])**2\n",
    "    \n",
    "    #Константа, яку потрібно відняти від кожної суми квадратів (заогруглюємо до 1 знака після коми)\n",
    "    const = float('{:.1f}'.format(sum_x_2 / N))\n",
    "    \n",
    "    SS_fact = SS_zag = SS_vup = d_fact = d_zag = d_vup = MS_fact = MS_vup = 0\n",
    "    \n",
    "    #Крок 1 (Розрахуваємо внутрішньогрупову дисперсію SS_fact)\n",
    "    SS_fact = float('{:.2f}'.format((Tc_2 / n) - const))\n",
    "    \n",
    "    #Крок 2 (Розрахувуємо загальногрупову дисперсію SS_zag)\n",
    "    SS_zag = float('{:.2f}'.format((x_2_sum - const)))\n",
    "    \n",
    "    #Крок 3 (Розраховуємо випадкову (залишкову) величину SS_vup)\n",
    "    SS_vup = float('{:.2f}'.format((SS_zag - SS_fact)))\n",
    "    \n",
    "    #Крок 4 (Визначаємо кількість ступенів свободи)\n",
    "    d_fact = c - 1\n",
    "    d_zag = N - 1\n",
    "    d_vup = d_zag - d_fact\n",
    "    \n",
    "    #Крок 5 (Розділяємо кожну SS на відповідне число ступенів свободи)\n",
    "    MS_fact = float('{:.2f}'.format(SS_fact / d_fact))\n",
    "    MS_vup = float('{:.2f}'.format(SS_vup / d_vup))\n",
    "    \n",
    "    #Крок 6 (Розрахувeємо значення F_emp)\n",
    "    F_emp = float('{:.2f}'.format(MS_fact / MS_vup))\n",
    "    \n",
    "    #Крок 7 (Визначити критичне значення F_tab по таблиці критичних значень)\n",
    "    \n",
    "    #Робота з файлом\n",
    "    #Загружаємо необхідні бібліотеки\n",
    "    import xlrd, xlwt\n",
    "    #Відкриваємо xlsx файл\n",
    "    rb = xlrd.open_workbook('Fishera.xlsx')\n",
    "    #Вибираємо активний лист (індексація з 0)\n",
    "    sheet = rb.sheet_by_index(0)\n",
    "    \n",
    "    #Отримуємо значення необхідної нам ячейки (номер рядка)[номер стовпчика]\n",
    "    if(d_fact <= 30 and d_vup <= 120):\n",
    "        F_tabl = sheet.row_values(d_vup + 1)[d_fact]\n",
    "        \n",
    "    #Крайні випадки    \n",
    "    if(d_fact <= 30 and d_vup > 120 and d_vup < 130):\n",
    "        F_tabl = sheet.row_values(32)[d_fact]\n",
    "    if(d_fact > 30 and d_fact < 40 and d_vup <= 120):\n",
    "        F_tabl = sheet.row_values(d_vup + 1)[14]\n",
    "    if(d_fact > 30 and d_fact < 40 and d_vup > 120 and d_vup < 130):\n",
    "        F_tabl = sheet.row_values(32)[14]    \n",
    "    if(d_fact > 40 and d_vup > 130): #Неможливо визначити F_tabl по цій таблиці \n",
    "        F_tabl = 0\n",
    "        \n",
    "    #Крок 8 (Співставити F_emp та критичне значення F_tabl)\n",
    "    if(F_emp >= F_tabl):\n",
    "        result_F =\"Відхиляється\"\n",
    "    else:\n",
    "        result_F =\"Приймається\"\n",
    "    \n",
    "    #Результати оформлені за допомогою таблиці\n",
    "    result_num = [SS_fact, SS_zag, SS_vup, d_fact, d_zag, d_vup, MS_fact, MS_vup, F_emp, F_tabl, result_F]\n",
    "    table_2 = pd.DataFrame({'Характеристика даних':[\"Внутрішньогрупова дисперсія:SS_факт\",\n",
    "                                                    \"Загальногрупова дисперсія:SS_заг\",\n",
    "                                                    \"Випадкова (залишкова)величина : SS_вип\",\n",
    "                                                    \"Кількість ступенів свободи: d_факт\",\n",
    "                                                    \"Кількість ступенів свободи: d_заг\",\n",
    "                                                    \"Кількість ступенів свободи: d_вип\",\n",
    "                                                    \"MS_факт\",\n",
    "                                                    \"MS_вип\",\n",
    "                                                    \"Значення: F_емпір\",\n",
    "                                                    \"Критичне значення: F_крит\",\n",
    "                                                    \"Результат H_0:\"],\n",
    "                            'Результати обчислень': result_num},\n",
    "                             index=np.arange(1, len(result_num) + 1))\n",
    "    \n",
    "    table_2.columns.name = '№'\n",
    "    return table_2"
   ]
  },
  {
   "cell_type": "markdown",
   "metadata": {},
   "source": [
    "4. Вивести результати розрахунку кожного з етапів вказаних вище у вигляді таблиці"
   ]
  },
  {
   "cell_type": "code",
   "execution_count": 8,
   "metadata": {},
   "outputs": [
    {
     "data": {
      "text/html": [
       "<div>\n",
       "<style scoped>\n",
       "    .dataframe tbody tr th:only-of-type {\n",
       "        vertical-align: middle;\n",
       "    }\n",
       "\n",
       "    .dataframe tbody tr th {\n",
       "        vertical-align: top;\n",
       "    }\n",
       "\n",
       "    .dataframe thead th {\n",
       "        text-align: right;\n",
       "    }\n",
       "</style>\n",
       "<table border=\"1\" class=\"dataframe\">\n",
       "  <thead>\n",
       "    <tr style=\"text-align: right;\">\n",
       "      <th>№</th>\n",
       "      <th>Характеристика даних</th>\n",
       "      <th>Результати обчислень</th>\n",
       "    </tr>\n",
       "  </thead>\n",
       "  <tbody>\n",
       "    <tr>\n",
       "      <td>1</td>\n",
       "      <td>Внутрішньогрупова дисперсія:SS_факт</td>\n",
       "      <td>275.97</td>\n",
       "    </tr>\n",
       "    <tr>\n",
       "      <td>2</td>\n",
       "      <td>Загальногрупова дисперсія:SS_заг</td>\n",
       "      <td>477.3</td>\n",
       "    </tr>\n",
       "    <tr>\n",
       "      <td>3</td>\n",
       "      <td>Випадкова (залишкова)величина : SS_вип</td>\n",
       "      <td>201.33</td>\n",
       "    </tr>\n",
       "    <tr>\n",
       "      <td>4</td>\n",
       "      <td>Кількість ступенів свободи: d_факт</td>\n",
       "      <td>3</td>\n",
       "    </tr>\n",
       "    <tr>\n",
       "      <td>5</td>\n",
       "      <td>Кількість ступенів свободи: d_заг</td>\n",
       "      <td>23</td>\n",
       "    </tr>\n",
       "    <tr>\n",
       "      <td>6</td>\n",
       "      <td>Кількість ступенів свободи: d_вип</td>\n",
       "      <td>20</td>\n",
       "    </tr>\n",
       "    <tr>\n",
       "      <td>7</td>\n",
       "      <td>MS_факт</td>\n",
       "      <td>91.99</td>\n",
       "    </tr>\n",
       "    <tr>\n",
       "      <td>8</td>\n",
       "      <td>MS_вип</td>\n",
       "      <td>10.07</td>\n",
       "    </tr>\n",
       "    <tr>\n",
       "      <td>9</td>\n",
       "      <td>Значення: F_емпір</td>\n",
       "      <td>9.14</td>\n",
       "    </tr>\n",
       "    <tr>\n",
       "      <td>10</td>\n",
       "      <td>Критичне значення: F_крит</td>\n",
       "      <td>3.1</td>\n",
       "    </tr>\n",
       "    <tr>\n",
       "      <td>11</td>\n",
       "      <td>Результат H_0:</td>\n",
       "      <td>Відхиляється</td>\n",
       "    </tr>\n",
       "  </tbody>\n",
       "</table>\n",
       "</div>"
      ],
      "text/plain": [
       "№                     Характеристика даних Результати обчислень\n",
       "1      Внутрішньогрупова дисперсія:SS_факт               275.97\n",
       "2         Загальногрупова дисперсія:SS_заг                477.3\n",
       "3   Випадкова (залишкова)величина : SS_вип               201.33\n",
       "4       Кількість ступенів свободи: d_факт                    3\n",
       "5        Кількість ступенів свободи: d_заг                   23\n",
       "6        Кількість ступенів свободи: d_вип                   20\n",
       "7                                  MS_факт                91.99\n",
       "8                                   MS_вип                10.07\n",
       "9                        Значення: F_емпір                 9.14\n",
       "10               Критичне значення: F_крит                  3.1\n",
       "11                          Результат H_0:         Відхиляється"
      ]
     },
     "execution_count": 8,
     "metadata": {},
     "output_type": "execute_result"
    }
   ],
   "source": [
    "Duspersion(table_only_data)"
   ]
  },
  {
   "cell_type": "markdown",
   "metadata": {},
   "source": [
    "Висновок:"
   ]
  },
  {
   "cell_type": "markdown",
   "metadata": {},
   "source": [
    "Під час дисперсійного аналізу був отриманий результат  𝐹_емпір  >  𝐹_крит , що свідчить про те що нульову гіпотезу про рівність середніх ми відхиляємо і приймаємо альтернативну: середні незалежних груп - відмінні. Що в нашому прикладі свідчить про те, що розпушування грунту впливає на річний приріст рослин."
   ]
  },
  {
   "cell_type": "code",
   "execution_count": null,
   "metadata": {},
   "outputs": [],
   "source": []
  }
 ],
 "metadata": {
  "kernelspec": {
   "display_name": "Python 3",
   "language": "python",
   "name": "python3"
  },
  "language_info": {
   "codemirror_mode": {
    "name": "ipython",
    "version": 3
   },
   "file_extension": ".py",
   "mimetype": "text/x-python",
   "name": "python",
   "nbconvert_exporter": "python",
   "pygments_lexer": "ipython3",
   "version": "3.7.4"
  }
 },
 "nbformat": 4,
 "nbformat_minor": 2
}
