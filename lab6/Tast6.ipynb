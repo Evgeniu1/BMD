{
 "cells": [
  {
   "cell_type": "markdown",
   "metadata": {},
   "source": [
    "<h3>Обробка та аналіз БМД </h3>\n",
    "  <h3>  Бондарчук Євгеній БС-82\n",
    "    Лабораторна 6 \n",
    "    </h3>\n",
    "<h5>Парний t-критерій Стьюдента</h5>"
   ]
  },
  {
   "cell_type": "markdown",
   "metadata": {},
   "source": [
    "1.Обрати реальні дані з kaggle або сгенерувати випадкові дані. Дані мають відповідати вимогам викладеним вище. Формат даних:"
   ]
  },
  {
   "cell_type": "code",
   "execution_count": 1,
   "metadata": {},
   "outputs": [],
   "source": [
    "import pandas as pd\n",
    "import matplotlib.pyplot as plt\n",
    "from numpy.random import randint\n",
    "import seaborn as sns"
   ]
  },
  {
   "cell_type": "code",
   "execution_count": 2,
   "metadata": {},
   "outputs": [
    {
     "data": {
      "text/html": [
       "<div>\n",
       "<style scoped>\n",
       "    .dataframe tbody tr th:only-of-type {\n",
       "        vertical-align: middle;\n",
       "    }\n",
       "\n",
       "    .dataframe tbody tr th {\n",
       "        vertical-align: top;\n",
       "    }\n",
       "\n",
       "    .dataframe thead th {\n",
       "        text-align: right;\n",
       "    }\n",
       "</style>\n",
       "<table border=\"1\" class=\"dataframe\">\n",
       "  <thead>\n",
       "    <tr style=\"text-align: right;\">\n",
       "      <th></th>\n",
       "      <th>01.03.2020</th>\n",
       "      <th>01.04.2020</th>\n",
       "    </tr>\n",
       "    <tr>\n",
       "      <th>Марка авто</th>\n",
       "      <th></th>\n",
       "      <th></th>\n",
       "    </tr>\n",
       "  </thead>\n",
       "  <tbody>\n",
       "    <tr>\n",
       "      <th>Porsche</th>\n",
       "      <td>12</td>\n",
       "      <td>16</td>\n",
       "    </tr>\n",
       "    <tr>\n",
       "      <th>Audi</th>\n",
       "      <td>4</td>\n",
       "      <td>7</td>\n",
       "    </tr>\n",
       "    <tr>\n",
       "      <th>Mercedes</th>\n",
       "      <td>14</td>\n",
       "      <td>5</td>\n",
       "    </tr>\n",
       "    <tr>\n",
       "      <th>BMW</th>\n",
       "      <td>4</td>\n",
       "      <td>16</td>\n",
       "    </tr>\n",
       "    <tr>\n",
       "      <th>Volkswagen</th>\n",
       "      <td>11</td>\n",
       "      <td>15</td>\n",
       "    </tr>\n",
       "    <tr>\n",
       "      <th>Seat</th>\n",
       "      <td>1</td>\n",
       "      <td>8</td>\n",
       "    </tr>\n",
       "    <tr>\n",
       "      <th>Toyota</th>\n",
       "      <td>4</td>\n",
       "      <td>10</td>\n",
       "    </tr>\n",
       "  </tbody>\n",
       "</table>\n",
       "</div>"
      ],
      "text/plain": [
       "            01.03.2020  01.04.2020\n",
       "Марка авто                        \n",
       "Porsche             12          16\n",
       "Audi                 4           7\n",
       "Mercedes            14           5\n",
       "BMW                  4          16\n",
       "Volkswagen          11          15\n",
       "Seat                 1           8\n",
       "Toyota               4          10"
      ]
     },
     "execution_count": 2,
     "metadata": {},
     "output_type": "execute_result"
    }
   ],
   "source": [
    "data_1 = randint(0, 20, 7)\n",
    "data_2 = randint(0, 20, 7)\n",
    "data = pd.DataFrame({\"01.03.2020\": data_1, \"01.04.2020\": data_2,}, index = [\"Porsche\",\"Audi\", \"Mercedes\",\"BMW\", \"Volkswagen\", \"Seat\", \"Toyota\"])\n",
    "data.index.name = 'Марка авто'\n",
    "data"
   ]
  },
  {
   "cell_type": "markdown",
   "metadata": {},
   "source": [
    "2.Побудувати графік, що відображає розкид даних в групах. Приклад:"
   ]
  },
  {
   "cell_type": "code",
   "execution_count": 3,
   "metadata": {},
   "outputs": [
    {
     "data": {
      "text/plain": [
       "[Text(0.5, 0, 'Кі-сть авто')]"
      ]
     },
     "execution_count": 3,
     "metadata": {},
     "output_type": "execute_result"
    },
    {
     "data": {
      "image/png": "[encoded data removed]",
      "text/plain": [
       "<Figure size 432x288 with 1 Axes>"
      ]
     },
     "metadata": {
      "needs_background": "light"
     },
     "output_type": "display_data"
    }
   ],
   "source": [
    "sns.boxplot(data = data, orient = 'h').set(xlabel = 'Кі-сть авто')"
   ]
  },
  {
   "cell_type": "markdown",
   "metadata": {},
   "source": [
    "3.Написати функції:\n",
    "- для оцінки зв'язку між групами за коефіцієнтом кореляції Пірсона. Функція має повертати значення коефіцієнту кореляції, значення ступеня свободи та результат оцінки значимості зв'зку (significant або not significant).\n",
    "\n",
    "- для визначення відмінності між групами за критерієм Стьюдента. Функція має повертати значення критерію Стьюдента,значення ступеня свободи та результат оцінки значимості зв'зку (significant або not significant)."
   ]
  },
  {
   "cell_type": "code",
   "execution_count": 4,
   "metadata": {},
   "outputs": [],
   "source": [
    "def Pearson(x, y):\n",
    "    r = ( sum(x * y) - len(x) * (sum(x)/len(x)) * (sum(y)/len(x)) ) / ( len(x) * ( ( ( sum(x**2)/len(x) - (sum(x)/len(x))**2 ) * ( sum(y**2)/len(x) - (sum(y)/len(x))**2) ) )**(1/2) )\n",
    "    print(\"Значення коефіцієнту кореляції: \" + str(r))\n",
    "    df = len(x) - 2\n",
    "    print(\"Значення ступеня свободи: \" + str(df))\n",
    "    critical_table = pd.read_excel(\"table.xlsx\")\n",
    "    a = critical_table.loc[df - 1, 0.05]\n",
    "    print(\"Критичне значення коефіцієнту кореляції = \" + str(a))\n",
    "    result = (\"significant\") if abs(r) > a else \"not significant\"\n",
    "    print(\"Результат оцінки значимості зв'зку: \" + result)\n",
    "    return r, df, result  "
   ]
  },
  {
   "cell_type": "code",
   "execution_count": 5,
   "metadata": {},
   "outputs": [],
   "source": [
    "def Student(x, y):\n",
    "    difference = x - y\n",
    "    M = difference.mean()\n",
    "    Sigma = difference.std()\n",
    "    t = (M/Sigma) * (len(x))**(1/2)\n",
    "    print(\"Значення t-критерію Стьюдента: t = \"  + str(t))\n",
    "    df = len(x) - 1\n",
    "    print('Значення ступеня свободи: df = ' + str(len(x) - 1))\n",
    "    critical_table = pd.read_excel(\"table.xlsx\")\n",
    "    a = critical_table.loc[len(x) - 2, 0.05]\n",
    "    print(\"Критичне значення коефіцієнту Стьюдента = \" + str(a))\n",
    "    result = (\"significant\") if abs(t) > a else \"not significant\"\n",
    "    print(\"Результат оцінки значимості зв'зку: \" + result)\n",
    "    return t, df, result\n"
   ]
  },
  {
   "cell_type": "markdown",
   "metadata": {},
   "source": [
    "4.Перевірити розбіжність на між групами на даних з п. 1."
   ]
  },
  {
   "cell_type": "code",
   "execution_count": 6,
   "metadata": {},
   "outputs": [
    {
     "name": "stdout",
     "output_type": "stream",
     "text": [
      "Значення коефіцієнту кореляції: 0.12153491671658981\n",
      "Значення ступеня свободи: 5\n",
      "Критичне значення коефіцієнту кореляції = 2.571\n",
      "Результат оцінки значимості зв'зку: not significant\n"
     ]
    },
    {
     "data": {
      "text/plain": [
       "(0.12153491671658981, 5, 'not significant')"
      ]
     },
     "execution_count": 6,
     "metadata": {},
     "output_type": "execute_result"
    }
   ],
   "source": [
    "Pearson(data_1, data_2)"
   ]
  },
  {
   "cell_type": "code",
   "execution_count": 7,
   "metadata": {},
   "outputs": [
    {
     "name": "stdout",
     "output_type": "stream",
     "text": [
      "Значення t-критерію Стьюдента: t = -1.71846588560844\n",
      "Значення ступеня свободи: df = 6\n",
      "Критичне значення коефіцієнту Стьюдента = 2.447\n",
      "Результат оцінки значимості зв'зку: not significant\n"
     ]
    },
    {
     "data": {
      "text/plain": [
       "(-1.71846588560844, 6, 'not significant')"
      ]
     },
     "execution_count": 7,
     "metadata": {},
     "output_type": "execute_result"
    }
   ],
   "source": [
    "Student(data_1, data_2)"
   ]
  },
  {
   "cell_type": "markdown",
   "metadata": {},
   "source": [
    "5.Сформувати висновок про взаємозв'язок між групами та про їх розбіжність."
   ]
  },
  {
   "cell_type": "markdown",
   "metadata": {},
   "source": [
    "Висновок: "
   ]
  },
  {
   "cell_type": "markdown",
   "metadata": {},
   "source": [
    "1)Під час аналізу залежності між групами за допомогою критерія Пірсона я отримав результат, який стверджує, що статистичної залежності немає."
   ]
  },
  {
   "cell_type": "markdown",
   "metadata": {},
   "source": [
    "2)Під час аналізу відмінності між групами за допомогою критерія t-Стьюдента, було прийнято нульову гіпотезу про рівність середніх."
   ]
  }
 ],
 "metadata": {
  "kernelspec": {
   "display_name": "Python 3",
   "language": "python",
   "name": "python3"
  },
  "language_info": {
   "codemirror_mode": {
    "name": "ipython",
    "version": 3
   },
   "file_extension": ".py",
   "mimetype": "text/x-python",
   "name": "python",
   "nbconvert_exporter": "python",
   "pygments_lexer": "ipython3",
   "version": "3.7.1"
  }
 },
 "nbformat": 4,
 "nbformat_minor": 4
}
